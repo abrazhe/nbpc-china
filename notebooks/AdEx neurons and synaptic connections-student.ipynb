{
 "cells": [
  {
   "cell_type": "markdown",
   "metadata": {},
   "source": [
    "# Adaptive Exponential integrate-and-fire (AdEx IF) neuron and synaptic connections\n"
   ]
  },
  {
   "cell_type": "code",
   "execution_count": null,
   "metadata": {},
   "outputs": [],
   "source": [
    "%pylab inline"
   ]
  },
  {
   "cell_type": "code",
   "execution_count": null,
   "metadata": {},
   "outputs": [],
   "source": [
    "import pandas as pd"
   ]
  },
  {
   "cell_type": "code",
   "execution_count": null,
   "metadata": {},
   "outputs": [],
   "source": [
    "style.use('ggplot')           # more stylish plots\n",
    "style.use('seaborn-muted')    # better default line colors"
   ]
  },
  {
   "cell_type": "code",
   "execution_count": null,
   "metadata": {},
   "outputs": [],
   "source": [
    "from brian2 import *"
   ]
  },
  {
   "cell_type": "code",
   "execution_count": null,
   "metadata": {},
   "outputs": [],
   "source": [
    "import input_factory as inpf"
   ]
  },
  {
   "cell_type": "markdown",
   "metadata": {},
   "source": [
    "## AdEx IF neuron"
   ]
  },
  {
   "cell_type": "code",
   "execution_count": null,
   "metadata": {},
   "outputs": [],
   "source": [
    "## Parameters that are shared by all neurons\n",
    "\n",
    "# Neurons\n",
    "Vth = -50*mV   # rheobase threshold\n",
    "El = -70*mV     # resting membrane potential\n",
    "Vcut = -20*mV    # spike detection threshold\n",
    "deltaT = 2*mV  # spike initiation sharpness\n",
    "Rin = 500*Mohm  # input resistance of a neuron at rest\n",
    "gl = 1/Rin\n",
    "\n",
    "\n",
    "\n",
    "# Synapses\n",
    "E_e = 0*mV     # Excitatory synaptic reversal potential (AMPA and NMDA receptors)\n",
    "E_i = -80*mV   # Inhibitory synaptic reversal potential (GABAA receptors)\n",
    "tau_e = 5*ms   # time scale of excitatory synaptic conductance\n",
    "tau_i = 10*ms  # time scale of excitatory synaptic conductance\n",
    "\n",
    "\n",
    "\n",
    "AdEx_equations = Equations('''\n",
    "dv/dt = (-gl*(v-El) + gl*deltaT*exp((v-Vth)/deltaT) - u + Isyn + Ibias + Iapp)/C : volt \n",
    "du/dt = (a*(v-El) - u)/tau_u: amp  # adaptation variable\n",
    "stim_amp : 1\n",
    "Ibias : amp\n",
    "Iapp = stim_amp*input_current(t,i): amp\n",
    "''')\n",
    "\n",
    "# Synaptic input\n",
    "synaptic_equations = Equations(\"\"\"\n",
    "Isyn =  - g_e*(v-E_e) - g_i*(v-E_i) : amp\n",
    "dg_e/dt = -g_e/tau_e : siemens\n",
    "dg_i/dt = -g_i/tau_i : siemens\n",
    "\"\"\")"
   ]
  },
  {
   "cell_type": "code",
   "execution_count": null,
   "metadata": {},
   "outputs": [],
   "source": [
    "gl"
   ]
  },
  {
   "cell_type": "code",
   "execution_count": null,
   "metadata": {},
   "outputs": [],
   "source": [
    "def v_nullcline(v,Ibias=0*pA):\n",
    "    return Ibias - gl*(v - El) + gl*deltaT*exp((v-Vth)/deltaT)\n",
    "\n",
    "def u_nullcline(v,pars):\n",
    "    return pars['a']*(v-El)"
   ]
  },
  {
   "cell_type": "markdown",
   "metadata": {},
   "source": [
    "Parameters that we will be using "
   ]
  },
  {
   "cell_type": "code",
   "execution_count": null,
   "metadata": {},
   "outputs": [],
   "source": [
    "adex_params = pd.read_csv('adex_params.csv',index_col='type')\n",
    "adex_params"
   ]
  },
  {
   "cell_type": "code",
   "execution_count": null,
   "metadata": {},
   "outputs": [],
   "source": [
    "adex_params.loc['adapting']"
   ]
  },
  {
   "cell_type": "code",
   "execution_count": null,
   "metadata": {},
   "outputs": [],
   "source": [
    "def convert_table_cell(col_name):\n",
    "    units = col_name.split(' ')[1][1:-1]\n",
    "\n",
    "def convert_from_table(row):\n",
    "    return dict(\n",
    "        a = float(row['a [nS]'])*nS,\n",
    "        b = float(row['b [pA]'])*pA,\n",
    "        tau_u = float(row['tau_u [ms]'])*ms,\n",
    "        Vreset = float(row['Vreset [mV]'])*mV,\n",
    "        C = float(row['tau_m [ms]'])*ms*gl,\n",
    "    )"
   ]
  },
  {
   "cell_type": "markdown",
   "metadata": {},
   "source": [
    "###  Set up parameters for different behaviour type"
   ]
  },
  {
   "cell_type": "code",
   "execution_count": null,
   "metadata": {},
   "outputs": [],
   "source": [
    "tonic_pars = convert_from_table(adex_params.loc['tonic'])\n",
    "\n",
    "adapting_pars = convert_from_table(adex_params.loc['adapting'])\n",
    "\n",
    "bursting_pars = convert_from_table(adex_params.loc['bursting'])\n",
    "\n",
    "initial_burst_pars = convert_from_table(adex_params.loc['init. burst'])\n",
    "\n",
    "irregular_pars = convert_from_table(adex_params.loc['irregular'])\n",
    "\n",
    "transient_pars = convert_from_table(adex_params.loc['transient'])\n",
    "\n",
    "delayed_pars = convert_from_table(adex_params.loc['delayed'])\n"
   ]
  },
  {
   "cell_type": "markdown",
   "metadata": {},
   "source": [
    "### Plotting the nullclines"
   ]
  },
  {
   "cell_type": "code",
   "execution_count": null,
   "metadata": {},
   "outputs": [],
   "source": [
    "vv = linspace(-85, -40, 200)*mV\n",
    "plot(vv/mV,v_nullcline(vv)/nA)\n",
    "#plot(vv/mV, u_nullcline(vv,bursting_pars)/nA)\n",
    "plot(vv/mV, u_nullcline(vv,bursting_pars)/nA)\n",
    "xlabel('membrane potential [mV]')\n",
    "ylabel('adaptation current [nA]')\n",
    "title('Nullclines of the bursting AdEx neuron')"
   ]
  },
  {
   "cell_type": "code",
   "execution_count": null,
   "metadata": {},
   "outputs": [],
   "source": [
    "start_scope()\n",
    "\n",
    "Nneurons = 10\n",
    "\n",
    "defaultclock.dt = 0.1*ms\n",
    "\n",
    "G = NeuronGroup(Nneurons, AdEx_equations+synaptic_equations,threshold='v>Vcut', reset='v=Vreset; u += b',\n",
    "                namespace=tonic_pars,\n",
    "                method='exponential_euler')\n",
    "\n",
    "G.set_states(dict(v=El,u=0))\n",
    "\n",
    "G.stim_amp = linspace(0,0.5,Nneurons)\n",
    "G.stim_amp[1] = 0.065\n",
    "G.v = -70*mV\n",
    "M = StateMonitor(G, ['v','u'], record=True)\n",
    "S = SpikeMonitor(G,)"
   ]
  },
  {
   "cell_type": "code",
   "execution_count": null,
   "metadata": {},
   "outputs": [],
   "source": [
    "input_current = inpf.get_step_current(200, 1500, 1*ms, 1.0*nA,Nneurons=Nneurons)"
   ]
  },
  {
   "cell_type": "code",
   "execution_count": null,
   "metadata": {},
   "outputs": [],
   "source": [
    "G.stim_amp[1]*nA"
   ]
  },
  {
   "cell_type": "code",
   "execution_count": null,
   "metadata": {},
   "outputs": [],
   "source": [
    "store()"
   ]
  },
  {
   "cell_type": "code",
   "execution_count": null,
   "metadata": {},
   "outputs": [],
   "source": [
    "restore()"
   ]
  },
  {
   "cell_type": "code",
   "execution_count": null,
   "metadata": {},
   "outputs": [],
   "source": [
    "%time run(2*second)"
   ]
  },
  {
   "cell_type": "code",
   "execution_count": null,
   "metadata": {},
   "outputs": [],
   "source": [
    "plot(M.t/ms, M.v[-1]/mV)\n",
    "xlim(200,250)"
   ]
  },
  {
   "cell_type": "code",
   "execution_count": null,
   "metadata": {},
   "outputs": [],
   "source": [
    "def beautify_spikes(statemon,spikemon,neuron_id):\n",
    "    vm = statemon[neuron_id].v[:]\n",
    "    offset = statemon.t[0]#/defaultclock.dt\n",
    "    spike_times = spikemon.t[spikemon.i == neuron_id]\n",
    "    for t in spike_times:\n",
    "        i = int((t-offset) / defaultclock.dt)\n",
    "        vm[i] = 20*mV\n",
    "    return vm"
   ]
  },
  {
   "cell_type": "code",
   "execution_count": null,
   "metadata": {},
   "outputs": [],
   "source": [
    "k = 1\n",
    "\n",
    "f,axs = subplots(2,1,sharex=True, figsize=(15,5))\n",
    "vx = beautify_spikes(M,S,k)/mV\n",
    "axs[0].plot(M.t/ms,vx)\n",
    "axs[1].plot(M.t/ms, G.stim_amp[k]*input_current(M.t,k)/nA,c='orange')"
   ]
  },
  {
   "cell_type": "code",
   "execution_count": null,
   "metadata": {},
   "outputs": [],
   "source": [
    "f,axs = subplots(2,1,sharex=True, figsize=(15,5))\n",
    "vx = beautify_spikes(M,S,k)/mV\n",
    "axs[0].plot(M.t/ms,vx)\n",
    "axs[1].plot(M.t/ms, G.stim_amp[k]*input_current(M.t,k),c='orange')\n",
    "xlim(250,300)"
   ]
  },
  {
   "cell_type": "code",
   "execution_count": null,
   "metadata": {},
   "outputs": [],
   "source": [
    "figure(figsize=(10,10))\n",
    "\n",
    "vv = linspace(-85, -40, 200)*mV\n",
    "\n",
    "plot(vv/mV,v_nullcline(vv,0)/nA,ls='--',c='blue',label='V nullcline before stim')\n",
    "plot(vv/mV,v_nullcline(vv,65*pA)/nA,ls='-',label='V nullcline during stim')\n",
    "plot(vv/mV, u_nullcline(vv,tonic_pars, )/nA,label='u nullcline')\n",
    "\n",
    "# trajectory\n",
    "plot(vx[M.t<250*ms],M.u[1][M.t<250*ms]/nA,color='gray')\n",
    "plot(vx[0],M.u[1][0]/nA,'ms')\n",
    "\n",
    "plot()\n",
    "\n",
    "axis([-72,-40,-0.1,0.1])\n",
    "legend()\n",
    "\n",
    "xlabel('membrane potential [mV]')\n",
    "ylabel('adaptation current [nA]')\n",
    "title('Nullclines and trajectory of the tonic AdEx neuron')\n"
   ]
  },
  {
   "cell_type": "markdown",
   "metadata": {},
   "source": [
    "<font color=red>\n",
    "**Exercise:**\n",
    " - make and plot recordings of all neuron response types\n",
    " - make plots with nullclines and trajectories for one additional response type (any)\n",
    "             "
   ]
  },
  {
   "cell_type": "markdown",
   "metadata": {},
   "source": [
    "## Synaptic connections"
   ]
  },
  {
   "cell_type": "markdown",
   "metadata": {},
   "source": [
    "### Pair of neurons"
   ]
  },
  {
   "cell_type": "code",
   "execution_count": null,
   "metadata": {},
   "outputs": [],
   "source": [
    "tau_ps = 0.8*second   # facilitation timescale\n",
    "tau_ns = 1.5*second   # replenishing timescale\n",
    "p_s0 = 0.6            # ground-state probability of release\n",
    "\n",
    "plasticity_model = Equations('''\n",
    "dp_s/dt = (p_s0-p_s)/tau_ps : 1 (event-driven)    # release probability\n",
    "dn_s/dt = (1-n_s)/tau_ns   : 1    (event-driven)    # fraction of resources available\n",
    "''')\n",
    "\n",
    "plasticity_action='''\n",
    "p_s += p_s0*(1-p_s) # facilitation\n",
    "r_s = p_s*n_s       # probability of release\n",
    "n_s -= r_s          # depletion\n",
    "'''"
   ]
  },
  {
   "cell_type": "code",
   "execution_count": null,
   "metadata": {},
   "outputs": [],
   "source": [
    "# compensate for small number of synapses by increasing\n",
    "# their conductance\n",
    "w_e = 2000*0.05*nS\n",
    "w_i = 500*1*nS"
   ]
  },
  {
   "cell_type": "code",
   "execution_count": null,
   "metadata": {},
   "outputs": [],
   "source": [
    "start_scope()\n",
    "G = NeuronGroup(2, AdEx_equations+synaptic_equations,threshold='v>Vcut', reset='v=Vreset; u += b',\n",
    "                namespace=adapting_pars,\n",
    "                method='exponential_euler')\n",
    "G.Ibias[1] = 0.03*nA\n",
    "G.set_states(dict(v=El + G.Ibias/gl,u=0*pA))"
   ]
  },
  {
   "cell_type": "code",
   "execution_count": null,
   "metadata": {},
   "outputs": [],
   "source": [
    "S_exc = Synapses(G,G, model=plasticity_model,on_pre=plasticity_action+'g_e_post += w_e*r_s')\n",
    "S_inh = Synapses(G,G, model=plasticity_model,on_pre=plasticity_action+'g_i_post += w_i*r_s')"
   ]
  },
  {
   "cell_type": "code",
   "execution_count": null,
   "metadata": {},
   "outputs": [],
   "source": [
    "S_exc.connect(i=0,j=1) # don't have much choice when there are only two neurons\n",
    "S_exc.delay = '10*ms + 0.1*randn()*ms'\n",
    "\n",
    "S_inh.connect(i=1,j=0)\n",
    "S_inh.delay = '10*ms'"
   ]
  },
  {
   "cell_type": "code",
   "execution_count": null,
   "metadata": {},
   "outputs": [],
   "source": [
    "#run(20*ms)\n",
    "M = StateMonitor(G, record=True, variables=True)\n",
    "S = SpikeMonitor(G)\n",
    "store()"
   ]
  },
  {
   "cell_type": "code",
   "execution_count": null,
   "metadata": {},
   "outputs": [],
   "source": []
  },
  {
   "cell_type": "code",
   "execution_count": null,
   "metadata": {},
   "outputs": [],
   "source": [
    "restore()\n",
    "G.stim_amp[0] = 0.65 #linspace(1,0,Nneurons)\n",
    "run(1.5*second)"
   ]
  },
  {
   "cell_type": "code",
   "execution_count": null,
   "metadata": {},
   "outputs": [],
   "source": [
    "f,axs = subplots(3,1,sharex=True, figsize=(15,5))\n",
    "\n",
    "axs[0].plot(M.t/ms, beautify_spikes(M,S,0)/mV)\n",
    "axs[0].set_ylabel('Vm [mV]')\n",
    "\n",
    "axs[1].plot(M.t/ms, M.g_i[0]/nS, c='steelblue', label='g_i (nrn 1) [nS]')\n",
    "axs[1].plot(M.t/ms, 10*M.g_e[1]/nsiemens, c='tomato', label='g_e (nrn 2) [0.1*nS]')\n",
    "axs[1].legend()\n",
    "\n",
    "axs[2].plot(M.t/ms, beautify_spikes(M,S,1)/mV)\n",
    "axs[2].set_ylabel('Vm [mV]')\n",
    "\n",
    "axs[0].set_title('regular (exc) <-> tonic (inh)')\n",
    "xlabel('time [ms]')\n",
    "#xlim(600,800)"
   ]
  },
  {
   "cell_type": "markdown",
   "metadata": {},
   "source": [
    "<font color=red>\n",
    "**Exercise:**\n",
    " - Try changing characteristic times for depletion and describe and illustrate what happens\n",
    " - Try connecting neurons with different response types and record patterns of dynamics\n",
    "             "
   ]
  },
  {
   "cell_type": "markdown",
   "metadata": {},
   "source": [
    "### Small network"
   ]
  },
  {
   "cell_type": "code",
   "execution_count": null,
   "metadata": {},
   "outputs": [],
   "source": [
    "# compensate for small number of synapses by increasing\n",
    "# their conductance\n",
    "w_e = 500*0.05*nS\n",
    "w_i = 500*1*nS"
   ]
  },
  {
   "cell_type": "code",
   "execution_count": null,
   "metadata": {},
   "outputs": [],
   "source": []
  },
  {
   "cell_type": "code",
   "execution_count": null,
   "metadata": {},
   "outputs": [],
   "source": [
    "start_scope()\n",
    "\n",
    "seed(4022)\n",
    "\n",
    "Nexc = 10\n",
    "\n",
    "G1 = NeuronGroup(Nexc, AdEx_equations+synaptic_equations,threshold='v>Vcut', reset='v=Vreset; u += b',\n",
    "                namespace=adapting_pars,\n",
    "                method='exponential_euler')\n",
    "\n",
    "G1.Ibias = '25*pA + randn()*5*pA'\n",
    "G1.set_states(dict(v=El + G1.Ibias/gl, u=0*pA))\n",
    "\n",
    "G2 = NeuronGroup(1, AdEx_equations+synaptic_equations,threshold='v>Vcut', reset='v=Vreset; u += b',\n",
    "                namespace=tonic_pars,\n",
    "                method='exponential_euler')\n",
    "G2.set_states(dict(v=El, u=0*pA))"
   ]
  },
  {
   "cell_type": "code",
   "execution_count": null,
   "metadata": {},
   "outputs": [],
   "source": [
    "#R = Spikeinput_current = inpf.get_step_current(200, 800, 1*ms, 1.0*nA,Nneurons=Nneurons)neratorGroup()"
   ]
  },
  {
   "cell_type": "code",
   "execution_count": null,
   "metadata": {},
   "outputs": [],
   "source": [
    "input_current = inpf.get_step_current(200, 2000, 1*ms, 1.0*nA,Nneurons=Nexc)"
   ]
  },
  {
   "cell_type": "code",
   "execution_count": null,
   "metadata": {},
   "outputs": [],
   "source": [
    "S_exc = Synapses(G1,G2, model=plasticity_model,on_pre=plasticity_action+'g_e_post += w_e*r_s')\n",
    "S_exc2 = Synapses(G1,G1, model=plasticity_model,on_pre=plasticity_action+'g_e_post += w_e*r_s')\n",
    "\n",
    "S_inh = Synapses(G2,G1, model=plasticity_model,on_pre=plasticity_action+'g_i_post += w_i*r_s')"
   ]
  },
  {
   "cell_type": "code",
   "execution_count": null,
   "metadata": {},
   "outputs": [],
   "source": [
    "S_exc.connect(p=0.85) # don't have much choice when there are only two neurons\n",
    "S_exc2.connect(p=0.85,condition='i!=j')\n",
    "S_exc.delay = 'clip(10*ms + 0.1*randn()*ms,0,100*ms)'\n",
    "\n",
    "S_inh.connect(p=1)\n",
    "S_inh.delay = 'clip(10*ms + 0.1*randn()*ms,0,100*ms)'"
   ]
  },
  {
   "cell_type": "code",
   "execution_count": null,
   "metadata": {},
   "outputs": [],
   "source": []
  },
  {
   "cell_type": "code",
   "execution_count": null,
   "metadata": {},
   "outputs": [],
   "source": [
    "#run(20*ms)\n",
    "M1 = StateMonitor(G1, record=True, variables=True)\n",
    "M2 = StateMonitor(G2, record=True, variables=True)\n",
    "\n",
    "S1 = SpikeMonitor(G1)\n",
    "S2 = SpikeMonitor(G2)\n",
    "\n",
    "store()"
   ]
  },
  {
   "cell_type": "code",
   "execution_count": null,
   "metadata": {},
   "outputs": [],
   "source": []
  },
  {
   "cell_type": "code",
   "execution_count": null,
   "metadata": {},
   "outputs": [],
   "source": []
  },
  {
   "cell_type": "code",
   "execution_count": null,
   "metadata": {},
   "outputs": [],
   "source": [
    "restore()\n",
    "\n",
    "G1.stim_amp = 0.05 #linspace(1,0,Nneurons)\n",
    "G2.Ibias = 0.01*nA"
   ]
  },
  {
   "cell_type": "code",
   "execution_count": null,
   "metadata": {},
   "outputs": [],
   "source": [
    "%time  run(3*second)"
   ]
  },
  {
   "cell_type": "code",
   "execution_count": null,
   "metadata": {},
   "outputs": [],
   "source": [
    "f,axs = subplots(3,1,sharex=True, figsize=(15,5))\n",
    "\n",
    "axs[0].plot(M1.t/ms, beautify_spikes(M1,S1,0)/mV,label='exc. neuron')\n",
    "axs[0].set_ylabel('Vm [mV]')\n",
    "axs[0].legend()\n",
    "\n",
    "axs[1].plot(M1.t/ms, M1.g_i[0]/nS, c='steelblue', label='g_i (nrn 1) [nS]')\n",
    "axs[1].plot(M2.t/ms, 5*M2.g_e[0]/nS, c='tomato', label='g_e (nrn 2) [nS]/5')\n",
    "axs[1].legend()\n",
    "\n",
    "axs[2].plot(M2.t/ms, beautify_spikes(M2,S2,0)/mV,label='inh. neuron')\n",
    "axs[2].set_ylabel('Vm [mV]')\n",
    "axs[2].legend()\n",
    "\n",
    "axs[0].set_title('regular (exc) <-> tonic (inh)')\n",
    "xlabel('time [ms]')\n",
    "#xlim(600,800)"
   ]
  },
  {
   "cell_type": "code",
   "execution_count": null,
   "metadata": {},
   "outputs": [],
   "source": [
    "def raster_spikes(spikemon,c='r',offset=0):\n",
    "    plot(spikemon.t/ms, spikemon.i+offset,'|',c=c)\n",
    "    xlabel('time [ms]')"
   ]
  },
  {
   "cell_type": "code",
   "execution_count": null,
   "metadata": {},
   "outputs": [],
   "source": [
    "figure(figsize=(15,1))\n",
    "raster_spikes(S1)\n",
    "raster_spikes(S2,c='b',offset=Nexc+1)\n",
    "legend(['exc','inh'])"
   ]
  },
  {
   "cell_type": "markdown",
   "metadata": {},
   "source": [
    "\n",
    "<font color=red>\n",
    "**Exercise:**\n",
    " - Compare network activity with and without inhibition (set w_i to zero). Describe changes.\n",
    " - Try using different kinds of pre- and post-synaptic neurons. Can you find interesting patterns of behaviour?\n",
    " - `*` [hard] Connect a SpikeGenerator object to a subset of excitatory neurons instead of step current\n",
    "             "
   ]
  },
  {
   "cell_type": "code",
   "execution_count": null,
   "metadata": {},
   "outputs": [],
   "source": []
  },
  {
   "cell_type": "code",
   "execution_count": null,
   "metadata": {},
   "outputs": [],
   "source": []
  }
 ],
 "metadata": {
  "kernelspec": {
   "display_name": "Python 3",
   "language": "python",
   "name": "python3"
  },
  "language_info": {
   "codemirror_mode": {
    "name": "ipython",
    "version": 3
   },
   "file_extension": ".py",
   "mimetype": "text/x-python",
   "name": "python",
   "nbconvert_exporter": "python",
   "pygments_lexer": "ipython3",
   "version": "3.6.3"
  }
 },
 "nbformat": 4,
 "nbformat_minor": 2
}
