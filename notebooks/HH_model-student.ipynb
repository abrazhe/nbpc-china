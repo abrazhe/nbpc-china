{
 "cells": [
  {
   "cell_type": "markdown",
   "metadata": {},
   "source": [
    "# Modeling a single-compartment Hodgkin-Huxley neuron using Brian2\n",
    "\n",
    "\n",
    "In this notebook we make the first steps with `Python`, `Brian` simulator, and Hodgkin-Huxley equations.\n",
    "\n",
    "We will use `brian2` for simulations because it works well with Jupyter notebooks and allows to easily set point models of neuronal groups and synaptic connections between them. We will exploit that property."
   ]
  },
  {
   "cell_type": "markdown",
   "metadata": {},
   "source": [
    "This thing you're using is called a \"Jupyter notebook\". It allows to combine explanatory notes, code, simulations and output all in one file.\n",
    "\n",
    "First thing, we import some important modules (libraries) for plotting and simulations. We will use some constants too."
   ]
  },
  {
   "cell_type": "code",
   "execution_count": 1,
   "metadata": {},
   "outputs": [
    {
     "name": "stdout",
     "output_type": "stream",
     "text": [
      "Populating the interactive namespace from numpy and matplotlib\n"
     ]
    }
   ],
   "source": [
    "%pylab inline"
   ]
  },
  {
   "cell_type": "code",
   "execution_count": 2,
   "metadata": {},
   "outputs": [],
   "source": [
    "from brian2 import *"
   ]
  },
  {
   "cell_type": "code",
   "execution_count": 3,
   "metadata": {},
   "outputs": [],
   "source": [
    "from brian2.units.constants import zero_celsius, gas_constant as R, faraday_constant as F"
   ]
  },
  {
   "cell_type": "code",
   "execution_count": 4,
   "metadata": {},
   "outputs": [
    {
     "data": {
      "text/latex": [
       "$8.617330272860293e-05\\,m^{2}\\,kg\\,s^{-3}\\,A^{-1}\\,K^{-1}$"
      ],
      "text/plain": [
       "8.61733027e-05 * metre ** 2 * kilogram * second ** -3 * amp ** -1 * kelvin ** -1"
      ]
     },
     "execution_count": 4,
     "metadata": {},
     "output_type": "execute_result"
    }
   ],
   "source": [
    "R/F"
   ]
  },
  {
   "cell_type": "code",
   "execution_count": 5,
   "metadata": {},
   "outputs": [],
   "source": [
    "import input_factory as inpf"
   ]
  },
  {
   "cell_type": "markdown",
   "metadata": {},
   "source": [
    "## The original HH model"
   ]
  },
  {
   "cell_type": "code",
   "execution_count": 6,
   "metadata": {},
   "outputs": [],
   "source": [
    "T = 6*kelvin + zero_celsius"
   ]
  },
  {
   "cell_type": "code",
   "execution_count": 7,
   "metadata": {},
   "outputs": [],
   "source": [
    "def Nernst(Ci,Co,z=1):\n",
    "    return R*T*log(Co/Ci)/F/z"
   ]
  },
  {
   "cell_type": "markdown",
   "metadata": {},
   "source": [
    "We will use piece of axon 2cm long and 0.5mm in diameter"
   ]
  },
  {
   "cell_type": "markdown",
   "metadata": {},
   "source": [
    "### Geometry parameters"
   ]
  },
  {
   "cell_type": "code",
   "execution_count": 23,
   "metadata": {},
   "outputs": [
    {
     "name": "stdout",
     "output_type": "stream",
     "text": [
      "Axon area: 31.41592654 mm^2\n"
     ]
    }
   ],
   "source": [
    "radius = 0.25*mm\n",
    "length = 2*cm\n",
    "area = 2*pi*radius*length\n",
    "\n",
    "print ('Axon area: {}'.format(area))"
   ]
  },
  {
   "cell_type": "markdown",
   "metadata": {},
   "source": [
    "So, this is how we define the equations. Read them carefully."
   ]
  },
  {
   "cell_type": "markdown",
   "metadata": {},
   "source": [
    "### Ion concentrations and reversal potentials"
   ]
  },
  {
   "cell_type": "code",
   "execution_count": null,
   "metadata": {},
   "outputs": [],
   "source": [
    "Nai,Nao = 20*mM,155*mM\n",
    "Ki,Ko = 75*mM,3*mM\n",
    "\n",
    "Ena = Nernst(Nai,Nao)\n",
    "Ek = Nernst(Ki,Ko)\n",
    "El = -54.5*mV\n"
   ]
  },
  {
   "cell_type": "code",
   "execution_count": 14,
   "metadata": {},
   "outputs": [
    {
     "name": "stdout",
     "output_type": "stream",
     "text": [
      "Sodium reversal potential Ena = 49.25781949 mV\n",
      "Potassium reversal potential EK = -77.43095107 mV\n"
     ]
    }
   ],
   "source": [
    "print(\"Sodium reversal potential Ena = {}\".format(Ena))\n",
    "print(\"Potassium reversal potential EK = {}\".format(Ek))"
   ]
  },
  {
   "cell_type": "markdown",
   "metadata": {},
   "source": [
    "### Electrical parameters"
   ]
  },
  {
   "cell_type": "code",
   "execution_count": 24,
   "metadata": {},
   "outputs": [],
   "source": [
    "C = 1*uF/cm2*area\n",
    "gna = 120*mS/cm2*area\n",
    "gk = 36*mS/cm2*area\n",
    "gl = 0.3*mS/cm2*area"
   ]
  },
  {
   "cell_type": "code",
   "execution_count": 12,
   "metadata": {},
   "outputs": [
    {
     "name": "stdout",
     "output_type": "stream",
     "text": [
      "Membrane capacitance: 314.15926536 nF\n",
      "Max Na conductance: 37.69911184 mS\n"
     ]
    }
   ],
   "source": [
    "print(\"Membrane capacitance: {}\".format(C))\n",
    "print(\"Max Na conductance: {}\".format(gna))"
   ]
  },
  {
   "cell_type": "markdown",
   "metadata": {},
   "source": [
    "<font color=red size='big'>Exercise: print maximum potassium conductance below</font>"
   ]
  },
  {
   "cell_type": "code",
   "execution_count": 13,
   "metadata": {},
   "outputs": [
    {
     "data": {
      "text/plain": [
       "Ellipsis"
      ]
     },
     "execution_count": 13,
     "metadata": {},
     "output_type": "execute_result"
    }
   ],
   "source": [
    "..."
   ]
  },
  {
   "cell_type": "markdown",
   "metadata": {},
   "source": [
    "### Potassium and leak currents"
   ]
  },
  {
   "cell_type": "code",
   "execution_count": null,
   "metadata": {},
   "outputs": [],
   "source": [
    "# leak current\n",
    "ileak_eqs = Equations(\"ileak = gl*(V-El) : amp\")\n",
    "\n",
    "# potassium current\n",
    "ik_eqs = Equations(\"\"\"\n",
    "ik = gk*n**4*(V - Ek) : amp\n",
    "\n",
    "# -- gating -- \n",
    "dn/dt = nalpha*(1-n) - nbeta*n : 1\n",
    "nalpha = 0.01*(V + 55*mV)/(1 - exp(-(V + 55*mV)/10.0/mV))/mV/ms : 1/second\n",
    "nbeta = 0.125*exp(-(V + 65*mV)/80/mV)/ms: Hz\n",
    "\"\"\")"
   ]
  },
  {
   "cell_type": "markdown",
   "metadata": {},
   "source": [
    "### Sodium current"
   ]
  },
  {
   "cell_type": "code",
   "execution_count": null,
   "metadata": {},
   "outputs": [],
   "source": [
    "# sodium current\n",
    "ina_eqs = Equations(\"\"\"\n",
    "ina = gna*m**3*h*(V-Ena) : amp \n",
    "\n",
    "# -- gating -- \n",
    "dm/dt = malpha*(1-m) - mbeta*m : 1\n",
    "dh/dt = halpha*(1-h) - hbeta*h : 1\n",
    "\n",
    "# -- activation gate rates -- \n",
    "malpha = 0.1*(V+40*mV)/(1 - exp(-(V+40*mV)/10./mV))/mV/ms : 1/second\n",
    "mbeta = 4*exp(-(V+65*mV)/18/mV)/ms : 1/second\n",
    "\n",
    "# -- inactivation -- \n",
    "halpha = 0.07*exp(-(V+65*mV)/20/mV)/ms : 1/second\n",
    "hbeta = 1/(1 + exp(-(V+35*mV)/10/mV))/ms : 1/second\n",
    "\"\"\")"
   ]
  },
  {
   "cell_type": "markdown",
   "metadata": {},
   "source": [
    "### Combined equations"
   ]
  },
  {
   "cell_type": "code",
   "execution_count": 9,
   "metadata": {},
   "outputs": [],
   "source": [
    "# Full set of equations\n",
    "hh_eqs = Equations(\"\"\"\n",
    "dV/dt = (I_stim - ileak - ina - ik)/C : volt\n",
    "stim_amp : 1\n",
    "I_stim =  stim_amp*input_current(t,i): amp\n",
    "\"\"\") + ik_eqs + ina_eqs + ileak_eqs"
   ]
  },
  {
   "cell_type": "markdown",
   "metadata": {},
   "source": [
    "### Stimulating current"
   ]
  },
  {
   "cell_type": "markdown",
   "metadata": {},
   "source": [
    "We will use a step input current to stimulate our neuron:"
   ]
  },
  {
   "cell_type": "code",
   "execution_count": 10,
   "metadata": {},
   "outputs": [],
   "source": [
    "input_current = inpf.get_step_current(300, 800, 1*ms, 1.0*uA)"
   ]
  },
  {
   "cell_type": "code",
   "execution_count": 11,
   "metadata": {},
   "outputs": [
    {
     "data": {
      "text/plain": [
       "<matplotlib.text.Text at 0x7f10c7358898>"
      ]
     },
     "execution_count": 11,
     "metadata": {},
     "output_type": "execute_result"
    },
    {
     "data": {
      "image/png": "[encoded data removed]",
      "text/plain": [
       "<matplotlib.figure.Figure at 0x7f10cf1882b0>"
      ]
     },
     "metadata": {},
     "output_type": "display_data"
    }
   ],
   "source": [
    "t_ = linspace(0,1)*second\n",
    "plot(t_, input_current(t_,0)/uA)\n",
    "xlabel('time [s]'); ylabel('Stim current, [uA]')"
   ]
  },
  {
   "cell_type": "markdown",
   "metadata": {},
   "source": [
    "<font color='blue'>Always remember to label axes and use units</font>"
   ]
  },
  {
   "cell_type": "markdown",
   "metadata": {},
   "source": [
    "Now we are starting our simulation. To be able to run several simulations in one noteboo, each should start with \n",
    "`start_scope()` statement."
   ]
  },
  {
   "cell_type": "code",
   "execution_count": null,
   "metadata": {},
   "outputs": [],
   "source": [
    "defaultclock.dt = 0.05*ms"
   ]
  },
  {
   "cell_type": "code",
   "execution_count": 15,
   "metadata": {},
   "outputs": [],
   "source": [
    "start_scope()\n",
    "\n",
    "G = NeuronGroup(1, hh_eqs, method='exponential_euler')\n",
    "G.set_states(dict(V=-65.2*mV, m=0.05,h=0.6,n=0.3))"
   ]
  },
  {
   "cell_type": "code",
   "execution_count": 16,
   "metadata": {},
   "outputs": [],
   "source": [
    "G.stim_amp = 0 \n",
    "run(20*ms)\n",
    "#states = G.get_states()\n",
    "stateM = StateMonitor(G, variables=True,record=True)\n",
    "store() # Store the initialized state of the model\n",
    "#store()"
   ]
  },
  {
   "cell_type": "markdown",
   "metadata": {},
   "source": [
    "### Excitability properties"
   ]
  },
  {
   "cell_type": "code",
   "execution_count": 17,
   "metadata": {},
   "outputs": [
    {
     "data": {
      "image/png": "[encoded data removed]",
      "text/plain": [
       "<matplotlib.figure.Figure at 0x7f10c7305f98>"
      ]
     },
     "metadata": {},
     "output_type": "display_data"
    }
   ],
   "source": [
    "restore() # restore the initialized state and run new experiment\n",
    "G.stim_amp = 2.1\n",
    "run(1*second)\n",
    "f,axs = subplots(2,1,sharex=True,figsize=(8,5))\n",
    "axs[0].plot(stateM.t/ms, stateM.V[0]/mV,label='membrane potential [mV]')\n",
    "axs[1].plot(stateM.t/ms, stateM.I_stim[0]/uA,c='tomato',label='I_stim')\n",
    "axs[0].legend(); axs[1].legend()\n",
    "xlabel('time [ms]'); "
   ]
  },
  {
   "cell_type": "markdown",
   "metadata": {},
   "source": [
    "Note the subthreshold oscillations. \n",
    "\n",
    "\n",
    "<font color='red'>**Exercise:**\n",
    " - Find minimal stimulus amplitude that leads to production of just one spike\n",
    " - Find minimal stimulus amplitude that leads to sustaned (tonic) spiking\n",
    " - Plot dynamics of $m$,$h$, and $n$ variables vs time during the stimulation\n",
    " - Which type of bifurcation from resting state do you think this neuron displays?"
   ]
  },
  {
   "cell_type": "markdown",
   "metadata": {},
   "source": [
    "### Rebound spike\n",
    "\n",
    "Rebound spike is a spike that is elicited by release of hyperpolarization"
   ]
  },
  {
   "cell_type": "code",
   "execution_count": 18,
   "metadata": {},
   "outputs": [
    {
     "data": {
      "image/png": "[encoded data removed]",
      "text/plain": [
       "<matplotlib.figure.Figure at 0x7f10c5c40e10>"
      ]
     },
     "metadata": {},
     "output_type": "display_data"
    }
   ],
   "source": [
    "restore() # restore the initialized state and run new experiment\n",
    "G.stim_amp = -2.1\n",
    "run(1*second)\n",
    "f,axs = subplots(2,1,sharex=True,figsize=(8,5))\n",
    "axs[0].plot(stateM.t/ms, stateM.V[0]/mV,label='membrane potential [mV]')\n",
    "axs[1].plot(stateM.t/ms, stateM.I_stim[0]/uA,c='tomato',label='I_stim')\n",
    "axs[0].legend(); axs[1].legend()\n",
    "xlabel('time [ms]'); "
   ]
  },
  {
   "cell_type": "markdown",
   "metadata": {},
   "source": [
    "<font color='red'>**Exercise:**\n",
    " - Find smallest stimulus amplitude (in absolute values) that leads to production of rebound spike"
   ]
  },
  {
   "cell_type": "markdown",
   "metadata": {},
   "source": [
    "## Plotting gating parameters"
   ]
  },
  {
   "cell_type": "markdown",
   "metadata": {},
   "source": [
    "Here we will use a group of dummy \"neurons\" each with different resting voltage to obtain $\\alpha$ and $\\beta$ dependencies on voltage."
   ]
  },
  {
   "cell_type": "code",
   "execution_count": 19,
   "metadata": {},
   "outputs": [],
   "source": [
    "start_scope()\n",
    "\n",
    "Ndummy = 200\n",
    "Vv = linspace(-90,40,Ndummy)*mV\n",
    "\n",
    "dummy_eqs = \"\"\"dV/dt = (V0-V)/ms: volt\n",
    "               V0:volt\n",
    "            \"\"\"\n",
    "\n",
    "dummyG = NeuronGroup(Ndummy,\n",
    "                     Equations(dummy_eqs)+ik_eqs+ina_eqs,method='euler')\n",
    "dummyG.V0 = Vv\n",
    "dummyG.V = Vv\n",
    "M = StateMonitor(dummyG,variables=True,record=True)\n",
    "run(defaultclock.dt)"
   ]
  },
  {
   "cell_type": "code",
   "execution_count": 20,
   "metadata": {},
   "outputs": [
    {
     "data": {
      "text/plain": [
       "<matplotlib.text.Text at 0x7f10c5dbfa20>"
      ]
     },
     "execution_count": 20,
     "metadata": {},
     "output_type": "execute_result"
    },
    {
     "data": {
      "image/png": "[encoded data removed]",
      "text/plain": [
       "<matplotlib.figure.Figure at 0x7f10c54da198>"
      ]
     },
     "metadata": {},
     "output_type": "display_data"
    }
   ],
   "source": [
    "f,axs = subplots(1,3,sharex=True,figsize=(9,3))\n",
    "axs[0].plot(Vv/mV, M.malpha,label=r'$\\alpha_m$')\n",
    "axs[0].plot(Vv/mV, M.mbeta,label=r'$\\beta_m$')\n",
    "axs[0].legend()\n",
    "\n",
    "axs[1].plot(Vv/mV, M.malpha/(M.malpha+M.mbeta),label=r'$m_\\infty$')\n",
    "axs[1].legend()\n",
    "\n",
    "axs[2].plot(Vv/mV, 1/(M.malpha+M.mbeta)/ms,label=r'$\\tau_m$ [ms]')\n",
    "axs[2].legend()\n",
    "\n",
    "\n",
    "xlabel('V [mV]')\n"
   ]
  },
  {
   "cell_type": "markdown",
   "metadata": {},
   "source": [
    "<font color='red'>**Exercise:**\n",
    " - Make graphs like the one above, but for $n$ and $h$ gating variables"
   ]
  },
  {
   "cell_type": "markdown",
   "metadata": {},
   "source": [
    "  ## Neurons of the VCN (Rothman & Manis *J Neurophysiol* 2003)"
   ]
  },
  {
   "cell_type": "code",
   "execution_count": 25,
   "metadata": {},
   "outputs": [],
   "source": [
    "import pandas as pd"
   ]
  },
  {
   "cell_type": "code",
   "execution_count": 26,
   "metadata": {},
   "outputs": [
    {
     "data": {
      "text/latex": [
       "$12.46898124209789\\,\\mathrm{p}\\,\\mathrm{F}$"
      ],
      "text/plain": [
       "12.46898124 * pfarad"
      ]
     },
     "execution_count": 26,
     "metadata": {},
     "output_type": "execute_result"
    }
   ],
   "source": [
    "soma_diameter = 21*um\n",
    "soma_area = pi*soma_diameter**2\n",
    "C = 0.9*uF/cm2*soma_area\n",
    "C"
   ]
  },
  {
   "cell_type": "code",
   "execution_count": 27,
   "metadata": {},
   "outputs": [],
   "source": [
    "Ek = -70*mV\n",
    "Ena = +55*mV\n",
    "Eh = -43*mV\n",
    "Elk = -65*mV"
   ]
  },
  {
   "cell_type": "markdown",
   "metadata": {},
   "source": [
    "### Sodium current"
   ]
  },
  {
   "cell_type": "code",
   "execution_count": 29,
   "metadata": {},
   "outputs": [],
   "source": [
    "# sodium current\n",
    "ina_eqs_vcn = Equations(\"\"\"\n",
    "ina_vcn = gnabar*m**3*h*(V-Ena) : amp\n",
    "# -- gating -- \n",
    "dm/dt = (minf-m)/mtau : 1\n",
    "dh/dt = (hinf-h)/htau : 1\n",
    "minf= 1/(1 + exp(-(V+38*mV)/7/mV)) : 1\n",
    "hinf = 1/(1 + exp((V+65*mV)/6/mV)) : 1\n",
    "mtau = 10*ms/(5*exp((V+60*mV)/18/mV) + 36*exp(-(V+60*mV)/25/mV)) + 0.04*ms : second\n",
    "htau = 100*ms/(7*exp((V+60*mV)/11/mV) + 10*exp(-(V+60*mV)/25/mV)) + 0.6*ms : second\n",
    "\"\"\")"
   ]
  },
  {
   "cell_type": "markdown",
   "metadata": {},
   "source": [
    "### Kht (high-threshold К current)\n",
    "\n",
    "\n"
   ]
  },
  {
   "cell_type": "code",
   "execution_count": 31,
   "metadata": {},
   "outputs": [],
   "source": [
    "ikht_eqs = Equations(\"\"\"\n",
    "ikht = gkhtbar*(phi*n**2 + (1-phi)*p)*(V-Ek) : amp\n",
    "phi =  0.85 : 1\n",
    "\n",
    "dn/dt = (ninf - n)/ntau: 1\n",
    "dp/dt = (pinf-p)/ptau : 1\n",
    "\n",
    "ninf = 1/(1 + exp(-(V/mV+15)/5))**0.5 : 1\n",
    "pinf = 1/(1 + exp(-(V/mV+23)/6)) : 1\n",
    "ntau = (100/(11*exp((V/mV+60.0)/24.0) + 21.0*exp(-(V/mV+60.0)/23.0)) + 0.7)*ms : second\n",
    "ptau = (100/(4*exp((V/mV+60.0)/32.0) + 5.0*exp(-(V/mV+60.0)/22.0)) + 5.0)*ms   : second\n",
    "\"\"\")"
   ]
  },
  {
   "cell_type": "markdown",
   "metadata": {},
   "source": [
    "### Klt (low-threshold К current)\n"
   ]
  },
  {
   "cell_type": "code",
   "execution_count": 32,
   "metadata": {},
   "outputs": [],
   "source": [
    "iklt_eqs = Equations(\"\"\"\n",
    "iklt = gkltbar*(w**4)*z*(V-Ek) : amp\n",
    "\n",
    "dw/dt = (winf-w)/wtau : 1\n",
    "dz/dt = (zinf-z)/ztau : 1\n",
    "\n",
    "winf = (1 + exp(-(V/mV+48)/6.0))**-0.25 : 1\n",
    "wtau = (100/(6.0*exp((V/mV+60.0)/6.0) + 16.0*exp(-(V/mV+60.0)/45.0)) + 1.5)*ms: second\n",
    "\n",
    "zinf = (1-0.5)*(1 + exp((V/mV+71)/10.0))**-1 + 0.5 : 1\n",
    "ztau = (1000/(exp((V/mV+60)/20.0) + exp(-(V/mV+60)/8.0)) + 50)*ms : second\n",
    "\"\"\")"
   ]
  },
  {
   "cell_type": "markdown",
   "metadata": {},
   "source": [
    "### Ih (hyperpolarization-activated current)"
   ]
  },
  {
   "cell_type": "code",
   "execution_count": 33,
   "metadata": {},
   "outputs": [],
   "source": [
    "ih_eqs = Equations(\"\"\"\n",
    "ih = ghbar*r*(V-Eh) : amp\n",
    "dr/dt = (rinf-r)/rtau : 1\n",
    "rinf = 1/(1 + exp((V/mV+76)/7)) : 1\n",
    "rtau = (10**5/(237*exp((V/mV+60)/12) + 17*exp(-(V/mV+60)/14)) + 25)*ms : second\n",
    "\"\"\")\n"
   ]
  },
  {
   "cell_type": "markdown",
   "metadata": {},
   "source": [
    "### Full vcn equations:"
   ]
  },
  {
   "cell_type": "code",
   "execution_count": 34,
   "metadata": {},
   "outputs": [],
   "source": [
    "vcn_equations = Equations(\"\"\"\n",
    "dV/dt = (I_stim - ileak - ina_vcn - ikht - iklt - ih)/C : volt\n",
    "ileak = glk*(V-Elk) : amp\n",
    "stim_amp : 1\n",
    "I_stim =  stim_amp*input_current(t,i): amp\n",
    "\"\"\") + ina_eqs_vcn + ikht_eqs + iklt_eqs + ih_eqs"
   ]
  },
  {
   "cell_type": "markdown",
   "metadata": {},
   "source": [
    "### Conductances in nS"
   ]
  },
  {
   "cell_type": "code",
   "execution_count": 35,
   "metadata": {},
   "outputs": [
    {
     "data": {
      "text/html": [
       "<div>\n",
       "<style scoped>\n",
       "    .dataframe tbody tr th:only-of-type {\n",
       "        vertical-align: middle;\n",
       "    }\n",
       "\n",
       "    .dataframe tbody tr th {\n",
       "        vertical-align: top;\n",
       "    }\n",
       "\n",
       "    .dataframe thead th {\n",
       "        text-align: right;\n",
       "    }\n",
       "</style>\n",
       "<table border=\"1\" class=\"dataframe\">\n",
       "  <thead>\n",
       "    <tr style=\"text-align: right;\">\n",
       "      <th></th>\n",
       "      <th>Ic</th>\n",
       "      <th>It</th>\n",
       "      <th>I_II</th>\n",
       "      <th>II_I</th>\n",
       "      <th>II</th>\n",
       "    </tr>\n",
       "  </thead>\n",
       "  <tbody>\n",
       "    <tr>\n",
       "      <th>gnabar</th>\n",
       "      <td>1000.0</td>\n",
       "      <td>1000.0</td>\n",
       "      <td>1000</td>\n",
       "      <td>1000.0</td>\n",
       "      <td>1000</td>\n",
       "    </tr>\n",
       "    <tr>\n",
       "      <th>gkhtbar</th>\n",
       "      <td>150.0</td>\n",
       "      <td>80.0</td>\n",
       "      <td>150</td>\n",
       "      <td>150.0</td>\n",
       "      <td>150</td>\n",
       "    </tr>\n",
       "    <tr>\n",
       "      <th>gkltbar</th>\n",
       "      <td>0.0</td>\n",
       "      <td>0.0</td>\n",
       "      <td>20</td>\n",
       "      <td>35.0</td>\n",
       "      <td>200</td>\n",
       "    </tr>\n",
       "    <tr>\n",
       "      <th>gkabar</th>\n",
       "      <td>0.0</td>\n",
       "      <td>65.0</td>\n",
       "      <td>0</td>\n",
       "      <td>0.0</td>\n",
       "      <td>0</td>\n",
       "    </tr>\n",
       "    <tr>\n",
       "      <th>ghbar</th>\n",
       "      <td>0.5</td>\n",
       "      <td>0.5</td>\n",
       "      <td>2</td>\n",
       "      <td>3.5</td>\n",
       "      <td>20</td>\n",
       "    </tr>\n",
       "    <tr>\n",
       "      <th>glk</th>\n",
       "      <td>2.0</td>\n",
       "      <td>2.0</td>\n",
       "      <td>2</td>\n",
       "      <td>2.0</td>\n",
       "      <td>2</td>\n",
       "    </tr>\n",
       "  </tbody>\n",
       "</table>\n",
       "</div>"
      ],
      "text/plain": [
       "             Ic      It  I_II    II_I    II\n",
       "gnabar   1000.0  1000.0  1000  1000.0  1000\n",
       "gkhtbar   150.0    80.0   150   150.0   150\n",
       "gkltbar     0.0     0.0    20    35.0   200\n",
       "gkabar      0.0    65.0     0     0.0     0\n",
       "ghbar       0.5     0.5     2     3.5    20\n",
       "glk         2.0     2.0     2     2.0     2"
      ]
     },
     "execution_count": 35,
     "metadata": {},
     "output_type": "execute_result"
    }
   ],
   "source": [
    "rm_params = pd.read_csv(\"Rothman-Manis-2003-table1.csv\", index_col=0)\n",
    "rm_params"
   ]
  },
  {
   "cell_type": "code",
   "execution_count": 36,
   "metadata": {},
   "outputs": [],
   "source": [
    "def convert_rm_table_units(key):\n",
    "    return {k:v*nS for k,v in dict(rm_params[key]).items()}"
   ]
  },
  {
   "cell_type": "markdown",
   "metadata": {},
   "source": [
    "## Setting up the neurons\n",
    "\n",
    "### Type I  (stellate) neurons"
   ]
  },
  {
   "cell_type": "code",
   "execution_count": 37,
   "metadata": {},
   "outputs": [],
   "source": [
    "start_scope()\n",
    "\n",
    "G_typeIc =  NeuronGroup(1, vcn_equations, namespace=convert_rm_table_units('Ic'), method='exponential_euler')"
   ]
  },
  {
   "cell_type": "code",
   "execution_count": 38,
   "metadata": {},
   "outputs": [],
   "source": [
    "input_current = inpf.get_step_current(300, 450, 1*ms, 1.0*pA)"
   ]
  },
  {
   "cell_type": "code",
   "execution_count": 39,
   "metadata": {},
   "outputs": [],
   "source": [
    "run(200*ms)\n",
    "MIc = StateMonitor(G_typeIc, variables=True, record=True)\n",
    "store()"
   ]
  },
  {
   "cell_type": "code",
   "execution_count": 40,
   "metadata": {},
   "outputs": [],
   "source": [
    "restore()\n",
    "G_typeIc.stim_amp = 50\n",
    "run(0.5*second)\n",
    "vplus = MIc.V[0][:]\n",
    "#plot(MIc.t/ms, MIc.V[0]/mV)"
   ]
  },
  {
   "cell_type": "code",
   "execution_count": 41,
   "metadata": {},
   "outputs": [
    {
     "data": {
      "image/png": "[encoded data removed]",
      "text/plain": [
       "<matplotlib.figure.Figure at 0x7f10bfabf320>"
      ]
     },
     "metadata": {},
     "output_type": "display_data"
    }
   ],
   "source": [
    "restore()\n",
    "G_typeIc.stim_amp = -50\n",
    "run(0.5*second)\n",
    "plot(MIc.t/ms, vplus/mV)\n",
    "plot(MIc.t/ms, MIc.V[0]/mV)\n",
    "grid()"
   ]
  },
  {
   "cell_type": "markdown",
   "metadata": {},
   "source": [
    "### Type II (Bushy) neurons"
   ]
  },
  {
   "cell_type": "code",
   "execution_count": 42,
   "metadata": {},
   "outputs": [],
   "source": [
    "start_scope()\n",
    "G_typeII =  NeuronGroup(1, vcn_equations, namespace=convert_rm_table_units('II'), method='exponential_euler')"
   ]
  },
  {
   "cell_type": "code",
   "execution_count": 43,
   "metadata": {},
   "outputs": [],
   "source": [
    "run(200*ms)\n",
    "MII = StateMonitor(G_typeII, variables=True, record=True)\n",
    "store()"
   ]
  },
  {
   "cell_type": "code",
   "execution_count": 46,
   "metadata": {},
   "outputs": [
    {
     "data": {
      "text/plain": [
       "[<matplotlib.lines.Line2D at 0x7f10bdf43358>]"
      ]
     },
     "execution_count": 46,
     "metadata": {},
     "output_type": "execute_result"
    },
    {
     "data": {
      "image/png": "[encoded data removed]",
      "text/plain": [
       "<matplotlib.figure.Figure at 0x7f10c543c550>"
      ]
     },
     "metadata": {},
     "output_type": "display_data"
    }
   ],
   "source": [
    "restore()\n",
    "G_typeII.stim_amp = 400\n",
    "run(0.5*second)\n",
    "plot(MII.t/ms, MII.V[0]/mV, label='+300pA')\n",
    "\n",
    "restore()\n",
    "G_typeII.stim_amp = -400\n",
    "run(0.5*second)\n",
    "plot(MII.t/ms, MII.V[0]/mV,label='-300pA')\n",
    "xlabel('time [ms]')\n",
    "ylabel('membrane voltage [mV]')"
   ]
  },
  {
   "cell_type": "markdown",
   "metadata": {},
   "source": [
    "<font color=red>\n",
    "**Exersice:**\n",
    "   - Explain, why the membrane voltage sags during hyperpolarizing stimulus\n",
    "   - why does it sag more in the typeII model?\n",
    "   - test if typeI neuron can encode input current amplitude in spiking frequency\n",
    "   - which current is the slowest?"
   ]
  },
  {
   "cell_type": "markdown",
   "metadata": {},
   "source": [
    "<font color='red'>\n",
    "**Themes for projects (may want to choose one)**\n",
    "   - Investigate bifurcations of the resting state of the typeI and typeII neurons\n",
    "   - Investigate response of typeI and typeII models to stimulation with noisy injected current or injected conductance. You may want to read Brian2 documentation on how to do this kind of simulation"
   ]
  },
  {
   "cell_type": "code",
   "execution_count": null,
   "metadata": {},
   "outputs": [],
   "source": []
  }
 ],
 "metadata": {
  "kernelspec": {
   "display_name": "Python 3",
   "language": "python",
   "name": "python3"
  },
  "language_info": {
   "codemirror_mode": {
    "name": "ipython",
    "version": 3
   },
   "file_extension": ".py",
   "mimetype": "text/x-python",
   "name": "python",
   "nbconvert_exporter": "python",
   "pygments_lexer": "ipython3",
   "version": "3.6.3"
  }
 },
 "nbformat": 4,
 "nbformat_minor": 2
}
